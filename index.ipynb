{
 "cells": [
  {
   "cell_type": "markdown",
   "id": "5a31a3a2",
   "metadata": {},
   "source": [
    "# Import Modules"
   ]
  },
  {
   "cell_type": "code",
   "execution_count": null,
   "id": "38355b2d",
   "metadata": {},
   "outputs": [],
   "source": [
    "import numpy # this is to import a module/library\n",
    "import numpy as goofy\n",
    "import numpy as np # can give it any name\n",
    "from numpy import pi, linspace # can also import just one thing or more\n",
    "from numpy import pi as pig # and give it any name"
   ]
  },
  {
   "cell_type": "markdown",
   "id": "002c39c2",
   "metadata": {},
   "source": [
    "The following work with any module or object:"
   ]
  },
  {
   "cell_type": "code",
   "execution_count": null,
   "id": "f9067310",
   "metadata": {},
   "outputs": [],
   "source": [
    "np?"
   ]
  },
  {
   "cell_type": "code",
   "execution_count": null,
   "id": "e9453fc5",
   "metadata": {},
   "outputs": [],
   "source": [
    "help(pi)"
   ]
  },
  {
   "cell_type": "markdown",
   "id": "8130c9f3",
   "metadata": {},
   "source": [
    "## The print function\n",
    "\n",
    "Print is a built-in method/function.\n",
    "A function performs something on one or more arguments (prints something on the screen in the case of print). Check out what arguments a function accepts with help(print) or print?"
   ]
  },
  {
   "cell_type": "code",
   "execution_count": null,
   "id": "e8d8ad32",
   "metadata": {},
   "outputs": [],
   "source": [
    "print(pi)\n",
    "\n",
    "print(\"This is pi:\", pi)\n",
    "\n",
    "print(\"This is also pi %.2f\" % pi)\n"
   ]
  },
  {
   "cell_type": "markdown",
   "id": "6faf65da",
   "metadata": {},
   "source": [
    "## Variables"
   ]
  },
  {
   "cell_type": "code",
   "execution_count": null,
   "id": "f3411499",
   "metadata": {},
   "outputs": [],
   "source": [
    "a_string = \"Hello World\"\n",
    "a = 1\n",
    "b = 1.0\n",
    "x, y, z = 1, 2.0, \"mango\"\n",
    "\n",
    "print(a_string)\n",
    "print(\"Types\")\n",
    "\n",
    "print(type(a), type(b))\n",
    "print(a + b)\n",
    "\n"
   ]
  },
  {
   "cell_type": "markdown",
   "id": "875e923d",
   "metadata": {},
   "source": [
    "# Lists, tuples"
   ]
  },
  {
   "cell_type": "code",
   "execution_count": null,
   "id": "6862abdf",
   "metadata": {},
   "outputs": [],
   "source": [
    "l = [1, 2, \"x\", 4, 5.0] # list\n",
    "length = len(l)\n",
    "t = (79, \"a\", b) # tuple\n",
    "\n",
    "x, y, z = t #  unpacks the elements of tuple or list into these 3 variables \n",
    "\n",
    "print(\"1st, last elements of tuple and their type\")\n",
    "print(t[0], \",\", type(t[0]), ) # first element\n",
    "print(t[-1], \",\", type(t[-1])) # last element\n",
    "print()\n",
    "print(\"The list\")\n",
    "print(\"This is\", l, \"of length:\", length)\n",
    "\n"
   ]
  },
  {
   "cell_type": "markdown",
   "id": "95fddcd7",
   "metadata": {},
   "source": [
    "# Arrays"
   ]
  },
  {
   "cell_type": "code",
   "execution_count": null,
   "id": "e45f8686",
   "metadata": {},
   "outputs": [],
   "source": [
    "# create an array\n",
    "arr = np.array([1,2,3])\n",
    "print(arr)"
   ]
  },
  {
   "cell_type": "markdown",
   "id": "b354f294",
   "metadata": {},
   "source": [
    "All the elements of the array will be of the same type. What happens if we mix em up?"
   ]
  },
  {
   "cell_type": "code",
   "execution_count": null,
   "id": "f0f988bd",
   "metadata": {},
   "outputs": [],
   "source": [
    "arr1 = np.array([1,2,\"a string\"])\n",
    "print(arr1)\n",
    "print(type(arr1[0]))\n",
    "\n",
    "arr2 = np.array([1, 2.9999])\n",
    "print(arr2)\n",
    "print(type(arr2[0]))\n",
    "\n"
   ]
  },
  {
   "cell_type": "code",
   "execution_count": null,
   "id": "e9c11d46",
   "metadata": {},
   "outputs": [],
   "source": [
    "# now in 2d\n",
    "arr = np.array([[1,2,3], [3,2,4]])\n",
    "print(arr)"
   ]
  },
  {
   "cell_type": "code",
   "execution_count": null,
   "id": "6b45c07f",
   "metadata": {},
   "outputs": [],
   "source": [
    "# some tricks\n",
    "r = np.r_[1,2,3,4,5,6]\n",
    "\n",
    "c = np.c_[[1,3], [2,2], [3,4]]\n",
    "\n",
    "print(\"r and c\")\n",
    "print(r)\n",
    "print(c)\n",
    "print()"
   ]
  },
  {
   "cell_type": "markdown",
   "id": "45ee04ad",
   "metadata": {},
   "source": [
    "We can access many some useful attributes of an array:"
   ]
  },
  {
   "cell_type": "code",
   "execution_count": null,
   "id": "8de05bec",
   "metadata": {},
   "outputs": [],
   "source": [
    "print(\"Length, shape and numel of r\")\n",
    "length1, shape1, size1 = len(r), r.shape, r.size\n",
    "print(length1, shape1, size1)\n",
    "print()\n",
    "print(\"Length, shape and numel of c\")\n",
    "length2, shape2, size2 = len(c), c.shape, c.size\n",
    "print(length2, shape2, size2)"
   ]
  },
  {
   "cell_type": "markdown",
   "id": "df2707cc",
   "metadata": {},
   "source": [
    "# Slicing\n",
    "Works on any iterable (arrays, list, tuples)\n"
   ]
  },
  {
   "cell_type": "code",
   "execution_count": null,
   "id": "76553580",
   "metadata": {},
   "outputs": [],
   "source": [
    "a = np.linspace(0, 99, 100)\n",
    "\n",
    "# slice (a bit confusing maybe)\n",
    "print(a[0:len(a)], \"\\n\\n\") # from start to end, same as print(a)\n",
    "\n",
    "print(a[0:10], \"\\n\\n\") # start from the one at index zero and get 10 elements from there (including the 0th)\n",
    "print(a[10:], \"\\n\\n\")  # from the one at index ten\n",
    "print(a[-10:], \"\\n\\n\") # last ten elements up to the end\n",
    "print(a[:-1], \"\\n\\n\")  # all except the very last \n",
    "print(a[0:len(a):2], \"\\n\\n\")  # from start to end every two elements"
   ]
  },
  {
   "cell_type": "code",
   "execution_count": null,
   "id": "60a60ba8",
   "metadata": {},
   "outputs": [],
   "source": [
    "## in 2D\n",
    "arr = np.linspace(1,24,24)\n",
    "arr = np.reshape(arr, (3, 8))\n",
    "print(arr)\n",
    "print()\n",
    "print(arr[:2, :3])"
   ]
  },
  {
   "cell_type": "markdown",
   "id": "0bdab499",
   "metadata": {},
   "source": [
    "# Bool"
   ]
  },
  {
   "cell_type": "code",
   "execution_count": null,
   "id": "96a2de6c",
   "metadata": {},
   "outputs": [],
   "source": [
    "a = 1\n",
    "b = 13\n",
    "\n",
    "print(\">=     <    ==    !=\")\n",
    "print(a>=b, a<b, a==b, a!=b)\n",
    "\n",
    "# what do you expect if you uncomment these lines?\n",
    "# print(True or False)\n",
    "# print(True and False)\n",
    "# print(True and True)\n",
    "# print(False and False)\n",
    "\n",
    "# advanced but useful: what if you uncomment these?\n",
    "# v = np.linspace(1, 12, 12)\n",
    "# interval = (v >= 3) & (v <= 8) \n",
    "# print(v[interval])\n",
    "\n",
    "\n",
    "# Notice the syntax: colon, newline, indentation\n",
    "a, b = 30, 20\n",
    "print()\n",
    "if a > b:\n",
    "    print(\"a > b\")\n",
    "elif a < b: \n",
    "    print(\"a < b\")\n",
    "else:\n",
    "    print(\"a = b\")\n"
   ]
  },
  {
   "cell_type": "markdown",
   "id": "af09b816",
   "metadata": {},
   "source": [
    "# Loops"
   ]
  },
  {
   "cell_type": "code",
   "execution_count": null,
   "id": "13f13123",
   "metadata": {},
   "outputs": [],
   "source": [
    "s = 0\n",
    "for i in range(3): # or if you want to be fancy, range(0, 2, 1)\n",
    "    s = s + i # s += 1\n",
    "print(s)\n",
    "\n",
    "\n",
    "y = (\"banana\", \"apple\", \"onion\") # could also be a list\n",
    "x = [\"a fruit\", \"a fruit\", \"not a fruit\"]\n",
    "print()\n",
    "for element in y:\n",
    "    print(element)\n",
    "\n",
    "print()\n",
    "for element in y:\n",
    "    print(element)\n",
    "    if element == \"banana\":\n",
    "        print(\"I'm a banana\")\n",
    "    else:\n",
    "        print(\"Not a banana\")\n",
    "        \n",
    "print()\n",
    "for yy, xx in zip(y, x):\n",
    "    print(yy, \"is\", xx)\n",
    "    \n",
    "print()\n",
    "for i, el in enumerate(y):\n",
    "    print(i, el)\n",
    "\n",
    "print()\n",
    "# combine all\n",
    "for i, (xel, yel) in enumerate(zip(x, y)):\n",
    "    print(i, yel, \",\", xel)\n",
    "\n",
    "shape = (2,3)\n",
    "arr = np.zeros(shape)\n",
    "print()\n",
    "for i in range(shape[0]):\n",
    "    for j in range(shape[-1]):\n",
    "        arr[i, j] = i + j\n",
    "print(arr)\n"
   ]
  },
  {
   "cell_type": "markdown",
   "id": "c846f2b2",
   "metadata": {},
   "source": [
    "# Functions\n",
    "Remember len and print? Those were built-in functions. You can define your own functions and call them, like this:\n"
   ]
  },
  {
   "cell_type": "code",
   "execution_count": null,
   "id": "88f8367a",
   "metadata": {},
   "outputs": [],
   "source": [
    "def hi():\n",
    "    print(\"Hi!\")\n",
    "# to call it   \n",
    "hi()"
   ]
  },
  {
   "cell_type": "markdown",
   "id": "21d5204a",
   "metadata": {},
   "source": [
    "Note the keyword def. The way we defined, it doesn't accepts any argument. To change that"
   ]
  },
  {
   "cell_type": "code",
   "execution_count": null,
   "id": "b563ca28",
   "metadata": {},
   "outputs": [],
   "source": [
    "def hi(person):\n",
    "    print(\"Hi %s!\" % person)\n",
    "hi(\"Kinzah\")"
   ]
  },
  {
   "cell_type": "markdown",
   "id": "62fe414f",
   "metadata": {},
   "source": [
    "Functions can return values as well"
   ]
  },
  {
   "cell_type": "code",
   "execution_count": null,
   "id": "0fb60a96",
   "metadata": {},
   "outputs": [],
   "source": [
    "def genius(a, b):\n",
    "    my_sum = a + b\n",
    "    return my_sum\n",
    "result = genius(10, 90)\n",
    "print(\"Result = %i\" % result)"
   ]
  },
  {
   "cell_type": "markdown",
   "id": "71185cc3",
   "metadata": {},
   "source": [
    "What happens if we try to print my_sum?"
   ]
  },
  {
   "cell_type": "markdown",
   "id": "31605037",
   "metadata": {},
   "source": [
    "There's many ways to give arguments"
   ]
  },
  {
   "cell_type": "code",
   "execution_count": null,
   "id": "345fd333",
   "metadata": {},
   "outputs": [],
   "source": [
    "def swiss_army_knife(values, operation):\n",
    "    if operation == \"Sum\":\n",
    "        res = 0\n",
    "        for v in values:\n",
    "            res += v\n",
    "    elif operation == \"Product\":\n",
    "        res = 1\n",
    "        for v in values:\n",
    "            res *= v\n",
    "    else:\n",
    "        res = None\n",
    "    \n",
    "    return res \n",
    "\n",
    "print(swiss_army_knife(values = [1,2,3], operation = \"Sum\"))\n",
    "print(swiss_army_knife([1,2,3], \"Sum\"))"
   ]
  },
  {
   "cell_type": "markdown",
   "id": "cda8d799",
   "metadata": {},
   "source": [
    "Arguments can have a default value"
   ]
  },
  {
   "cell_type": "code",
   "execution_count": null,
   "id": "20cd361f",
   "metadata": {},
   "outputs": [],
   "source": [
    "def hi(person=\"World\"):\n",
    "    print(\"Hello %s!\" % person)\n",
    "hi()"
   ]
  },
  {
   "cell_type": "markdown",
   "id": "b502080d",
   "metadata": {},
   "source": [
    "For example, try to specify the argument 'end' in print (accepts strings)"
   ]
  },
  {
   "cell_type": "code",
   "execution_count": null,
   "id": "861ee252",
   "metadata": {},
   "outputs": [],
   "source": [
    "for e in [1,2,3]:\n",
    "    print(e)"
   ]
  },
  {
   "cell_type": "markdown",
   "id": "d72f4c9e",
   "metadata": {},
   "source": [
    "It's very useful to have all your functions in one or more separate files and import them in your main scripts.\n",
    "Makes things tidier and life easier."
   ]
  },
  {
   "cell_type": "markdown",
   "id": "5b236d58",
   "metadata": {},
   "source": [
    "# Classes\n",
    "Classes are a way to group and manipulate data within the same object. I don't think we need to know how to create a class, just to know how to use them since pygplates is based on them. For now we just need to know that classes have attributes and methods. We already used them once. For example a numpy array has many attributes, among which its shape:"
   ]
  },
  {
   "cell_type": "code",
   "execution_count": null,
   "id": "2e7b2319",
   "metadata": {},
   "outputs": [],
   "source": [
    "arr = np.reshape(range(6), (2,3)) # just to have an array\n",
    "print(arr)\n",
    "print(arr.shape)\n",
    "print(\"Shape is of type\", type(shape))"
   ]
  },
  {
   "cell_type": "markdown",
   "id": "4d8b3255",
   "metadata": {},
   "source": [
    "Methods are functions embedded inside the class, which usually perform tasks with the attributes of the class itself.\n",
    "Useful methods for numpy array for example are the ones that compute the min, max, sum (and many more!). They are used like this and often accept arguments."
   ]
  },
  {
   "cell_type": "code",
   "execution_count": null,
   "id": "d3617f2b",
   "metadata": {},
   "outputs": [],
   "source": [
    "stuff = (arr.min(),\n",
    "         arr.max(),\n",
    "         arr.std(),\n",
    "         arr.reshape((3, 2)),\n",
    "         arr.sum(),\n",
    "         arr.sum(axis = 0) )\n",
    "labels = (\"min\", \n",
    "          \"max\", \n",
    "          \"standard deviation\", \n",
    "          \"reshaped\", \n",
    "          \"sum\", \n",
    "          \"sum along one axis\")\n",
    "\n",
    "for x, l in zip(stuff, labels):\n",
    "    print(l, \"\\n\", x, \"\\n\")"
   ]
  },
  {
   "cell_type": "markdown",
   "id": "ac4623b3",
   "metadata": {},
   "source": [
    "Chances are that when you are thinking of an operation to perform on an object, it's already implemented as a method (or a function within a library, most likely numpy or scipy). So, before trying to code something complex yourself, try to use the help() function (or google lol). Even strings have methods!"
   ]
  },
  {
   "cell_type": "code",
   "execution_count": null,
   "id": "29d730d4",
   "metadata": {},
   "outputs": [],
   "source": [
    "# type a string and then press . and tab to see suggested methods\n",
    "\"\"."
   ]
  },
  {
   "cell_type": "code",
   "execution_count": null,
   "id": "004e8960",
   "metadata": {},
   "outputs": [],
   "source": [
    "# run cell to see the magic\n",
    "np.corrcoef?"
   ]
  }
 ],
 "metadata": {
  "kernelspec": {
   "display_name": "Python 3 (ipykernel)",
   "language": "python",
   "name": "python3"
  },
  "language_info": {
   "codemirror_mode": {
    "name": "ipython",
    "version": 3
   },
   "file_extension": ".py",
   "mimetype": "text/x-python",
   "name": "python",
   "nbconvert_exporter": "python",
   "pygments_lexer": "ipython3",
   "version": "3.9.7"
  }
 },
 "nbformat": 4,
 "nbformat_minor": 5
}
